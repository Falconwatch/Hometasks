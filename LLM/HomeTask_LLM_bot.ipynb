{
  "cells": [
    {
      "cell_type": "markdown",
      "metadata": {
        "id": "view-in-github",
        "colab_type": "text"
      },
      "source": [
        "<a href=\"https://colab.research.google.com/github/Falconwatch/Hometasks/blob/main/LLM/HomeTask_LLM_bot.ipynb\" target=\"_parent\"><img src=\"https://colab.research.google.com/assets/colab-badge.svg\" alt=\"Open In Colab\"/></a>"
      ]
    },
    {
      "cell_type": "markdown",
      "source": [
        "# Домашнее задание по созданию бота на основе LLM\n",
        "**Дано:** файл с информацией по госпрограммам - *Программы.xlsx*, на первом листе которого приведена таблица с информацией по гопсрограммам.\n",
        "\n",
        "**Необходимо:** разработать решение, которое позволит получать ответы на вопросы по этим госпрограммам. Предполагается,что решение будет работать с использованием LLM: локальных или по API - на усмотрение выполняющего.\n",
        "\n",
        "**Среда выполнения:** Выполнять задание можно как на открытых платформах (colab, kaggle), так и на собственных мощностях - это не оценивается\n",
        "\n",
        "**Окружение:**при выполнении на colab или kaggle в ноутбуке должна присутствовать установка дополнительных необходимых пакетов через *pip install*, в случае выполнения задания в других местах, необходимо помимо ноутбука приложить к решению файл *requirements.txt* с полным списком библиотек окружения\n",
        "\n",
        "\n",
        "**Подсказка:** из локальных LLM есть LLAMA-2-7B"
      ],
      "metadata": {
        "id": "NE5mNegx-Ip3"
      }
    },
    {
      "cell_type": "markdown",
      "source": [
        "# Чтение исходных данных"
      ],
      "metadata": {
        "id": "s1FnJUUapLpc"
      }
    },
    {
      "cell_type": "code",
      "source": [
        "import pandas as pd\n",
        "# Загрузка таблицы из файла Excel\n",
        "df = pd.read_excel('Программы.xlsx')"
      ],
      "metadata": {
        "id": "APdrtuMH-LGF"
      },
      "execution_count": null,
      "outputs": []
    },
    {
      "cell_type": "markdown",
      "source": [
        "#Основной код"
      ],
      "metadata": {
        "id": "zRCRKrh7-XN8"
      }
    },
    {
      "cell_type": "code",
      "source": [
        "# здесь код решения"
      ],
      "metadata": {
        "id": "JAYoZyvoo3s5"
      },
      "execution_count": null,
      "outputs": []
    },
    {
      "cell_type": "code",
      "execution_count": null,
      "metadata": {
        "id": "f1EUJ1xDH3BV"
      },
      "outputs": [],
      "source": [
        "def get_response(msg):\n",
        "  ## здесь код\n",
        "  return msg"
      ]
    },
    {
      "cell_type": "markdown",
      "metadata": {
        "id": "_FzR_wHDIArf"
      },
      "source": [
        "# Проверка"
      ]
    },
    {
      "cell_type": "code",
      "execution_count": 3,
      "metadata": {
        "id": "2LfSCtiNUutJ"
      },
      "outputs": [],
      "source": [
        "#get_response(\"Какие госпрограммы ты знаешь?\")\n",
        "#get_response(\"доступно ли получение кредита на проект в крыму по технологии кредит за 7 минут\")\n",
        "#get_response(\"Какая ставка по программе Туризм?\")\n",
        "#get_response(\"Кто куратор в банке программы Туризм?\")\n",
        "#get_response(\"каковы требования к заемщику по программе 141?\")\n",
        "#get_response(\"Чем отличаюься программы 141 и Крым?\")"
      ]
    },
    {
      "cell_type": "code",
      "source": [],
      "metadata": {
        "id": "jIYXw6bW9cZx"
      },
      "execution_count": null,
      "outputs": []
    }
  ],
  "metadata": {
    "colab": {
      "provenance": [],
      "include_colab_link": true
    },
    "kernelspec": {
      "display_name": "Python 3",
      "name": "python3"
    },
    "language_info": {
      "name": "python"
    }
  },
  "nbformat": 4,
  "nbformat_minor": 0
}