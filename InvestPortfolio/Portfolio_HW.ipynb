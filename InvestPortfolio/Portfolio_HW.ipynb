{
  "nbformat": 4,
  "nbformat_minor": 0,
  "metadata": {
    "colab": {
      "provenance": [],
      "authorship_tag": "ABX9TyOjMmHIOf28zhgJyhRSDPXX",
      "include_colab_link": true
    },
    "kernelspec": {
      "name": "python3",
      "display_name": "Python 3"
    },
    "language_info": {
      "name": "python"
    }
  },
  "cells": [
    {
      "cell_type": "markdown",
      "metadata": {
        "id": "view-in-github",
        "colab_type": "text"
      },
      "source": [
        "<a href=\"https://colab.research.google.com/github/Falconwatch/Hometasks/blob/main/InvestPortfolio/Portfolio_HW.ipynb\" target=\"_parent\"><img src=\"https://colab.research.google.com/assets/colab-badge.svg\" alt=\"Open In Colab\"/></a>"
      ]
    },
    {
      "cell_type": "markdown",
      "source": [
        "# Acknowledgments\n",
        "I thank my professor at NES Anna Obizhaeva for this material. Copyright for this homework belongs to her.\n",
        "\n",
        "# Description\n",
        "Suppose you work in an investment company that manages endowment of some local university. Your supervisor asked you to study the report, just published by the Yale endowment (see the Yale endowment report 2020, [here](https://investments.yale.edu/reports)), and perhaps think about any useful information for the company.\n"
      ],
      "metadata": {
        "id": "_RgtIWpAUajC"
      }
    },
    {
      "cell_type": "markdown",
      "source": [
        "# Task 1\n",
        "Read through the Yale endowment report 2020 and collect information about Yale’s eight main asset classes: real expected returns and risks. Be careful: Do the risk numbers in the report correspond to returns volatility or returns variance?"
      ],
      "metadata": {
        "id": "vuYTNgblUvBM"
      }
    },
    {
      "cell_type": "code",
      "source": [
        "# Code and answer here"
      ],
      "metadata": {
        "id": "fD5WQlquVE_Z"
      },
      "execution_count": null,
      "outputs": []
    },
    {
      "cell_type": "markdown",
      "source": [
        "# Task 2\n",
        "What is the Yale’ target portfolio (see Yale endowment report 2020, page 5)? Calculate its expected return E*.\n"
      ],
      "metadata": {
        "id": "r-TuwScEVHG1"
      }
    },
    {
      "cell_type": "code",
      "source": [
        "# Code and answer here"
      ],
      "metadata": {
        "id": "wAPM6a1NUt69"
      },
      "execution_count": 1,
      "outputs": []
    },
    {
      "cell_type": "markdown",
      "source": [
        "# Task 3\n",
        "Construct and plot portfolio frontier under the assumption that the correlation matrix has the following form:\n",
        "\n",
        "|                       | Absolute return | Domestic equity | Foreign Equity | Leveraged Buyouts | Natural Resoyrces | Venture Capital | Real Estate | Cash and Fixed Income |\n",
        "| --------------------- | --------------- | --------------- | -------------- | ----------------- | ----------------- | --------------- | ----------- | --------------------- |\n",
        "| Absolute return       | 1               | 0.6             | 0.6            | 0.6               | 0.1               | 0.6             | 0.2         | 0.1                   |\n",
        "| Domestic equity       |                 | 1               | 0.85           | 0.8               | 0.2               | 0.8             | 0.4         | 0.1                   |\n",
        "| Foreign Equity        |                 |                 | 1              | 0.65              | 0.15              | 0.65            | 0.4         | 0.1                   |\n",
        "| Leveraged Buyouts     |                 |                 |                | 1                 | 0.1               | 0.7             | 0.2         | 0.1                   |\n",
        "| Natural Resources     |                 |                 |                |                   | 1                 | 0.1             | 0.1         | 0                     |\n",
        "| Venture Capital       |                 |                 |                |                   |                   | 1               | 0.2         | 0.1                   |\n",
        "| Real Estate           |                 |                 |                |                   |                   |                 | 1           | 0                     |\n",
        "| Cash and Fixed Income |                 |                 |                |                   |                   |                 |             | 1                     |"
      ],
      "metadata": {
        "id": "4KXG5bqIVdga"
      }
    },
    {
      "cell_type": "code",
      "source": [
        "# Code and answer here"
      ],
      "metadata": {
        "id": "14PPpi9FVceU"
      },
      "execution_count": 2,
      "outputs": []
    },
    {
      "cell_type": "markdown",
      "source": [
        "# Task 4\n",
        "Plot the Yale’s target portfolio on the same chart. Is it on the portfolio frontier?"
      ],
      "metadata": {
        "id": "7AA-DQGMWLoM"
      }
    },
    {
      "cell_type": "code",
      "source": [
        "# Code and answer here"
      ],
      "metadata": {
        "id": "UoOvvScUWa1-"
      },
      "execution_count": null,
      "outputs": []
    },
    {
      "cell_type": "markdown",
      "source": [
        "# Task 5\n",
        "Calculate weights of the efficient portfolio that has the same expected return as the target portfolio (E*). How reasonable is this asset allocation in practical terms? Justify your answer with specific reasons."
      ],
      "metadata": {
        "id": "kCpOONxsWbRQ"
      }
    },
    {
      "cell_type": "code",
      "source": [
        "# Code and answer here"
      ],
      "metadata": {
        "id": "mUqQ9krDWq33"
      },
      "execution_count": 2,
      "outputs": []
    },
    {
      "cell_type": "markdown",
      "source": [
        "# Task 6\n",
        "To get more reasonable results, asset managers usually add extra constraints to\n",
        "portfolio optimizers. Suggests a set of reasonable constraints (with justifications) that would reflect both common sense and the following statement from the report: “The university combines the asset classes in such a way as to provide the highest expected return for a given level of risk, subject to fundamental diversification and liquidity constraints”."
      ],
      "metadata": {
        "id": "zuDob4W6Wsf_"
      }
    },
    {
      "cell_type": "code",
      "source": [
        "# Code and answer here"
      ],
      "metadata": {
        "id": "VcF1DB4gXO_Q"
      },
      "execution_count": null,
      "outputs": []
    },
    {
      "cell_type": "markdown",
      "source": [
        "# Task 7\n",
        "Redo portfolio optimization with constraints and plot the new frontier on the same chart as the original one. In constraint optimization, what is the efficient portfolio for the same expected return as the target portfolio (E*). Is this asset allocation reasonable?"
      ],
      "metadata": {
        "id": "TOpdZSETXPhM"
      }
    },
    {
      "cell_type": "code",
      "source": [
        "# Code and answer here"
      ],
      "metadata": {
        "id": "LYTuxsRdXiAA"
      },
      "execution_count": null,
      "outputs": []
    },
    {
      "cell_type": "markdown",
      "source": [
        "# Task 8\n",
        "Suppose you expect that market conditions may become more turbulent in the coming year. To hedge again the possible needs for liquidity, you decide to double the position in cash and fixed income in target portfolio, what effect will it have on the target portfolio (optimal portfolio in constraint optimization for the same expected return as the target portfolio)?"
      ],
      "metadata": {
        "id": "POgVY4BqXimz"
      }
    },
    {
      "cell_type": "code",
      "source": [
        "# Code and answer here"
      ],
      "metadata": {
        "id": "G1QrK84jWrfp"
      },
      "execution_count": null,
      "outputs": []
    }
  ]
}